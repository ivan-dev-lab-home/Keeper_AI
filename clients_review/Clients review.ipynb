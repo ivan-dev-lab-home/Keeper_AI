{
 "cells": [
  {
   "cell_type": "markdown",
   "id": "d2275612",
   "metadata": {},
   "source": [
    "<h1>Анализ клиентской базы</h1>"
   ]
  },
  {
   "cell_type": "markdown",
   "id": "5f2530f1",
   "metadata": {},
   "source": [
    "<p>В данном ноутбуке проанализирована клиентская база по возрасту, полу и.т.д</p>\n",
    "<p>Также построены графики зависимостей и выявлены оптимальный тарифы для каждого из типов пользователя</p>\n",
    "<p>Для удобства все данные, включая названия столбцов будет переведены на русский язык</p>"
   ]
  },
  {
   "cell_type": "code",
   "execution_count": 2,
   "id": "ac41b0de",
   "metadata": {
    "scrolled": true
   },
   "outputs": [
    {
     "name": "stdout",
     "output_type": "stream",
     "text": [
      "        CustomerID   Age  Gender  Tenure  Usage Frequency  Support Calls  \\\n",
      "0              1.0  22.0  Female    25.0             14.0            4.0   \n",
      "1              2.0  41.0  Female    28.0             28.0            7.0   \n",
      "2              3.0  47.0    Male    27.0             10.0            2.0   \n",
      "3              4.0  35.0    Male     9.0             12.0            5.0   \n",
      "4              5.0  53.0  Female    58.0             24.0            9.0   \n",
      "...            ...   ...     ...     ...              ...            ...   \n",
      "505202    449995.0  42.0    Male    54.0             15.0            1.0   \n",
      "505203    449996.0  25.0  Female     8.0             13.0            1.0   \n",
      "505204    449997.0  26.0    Male    35.0             27.0            1.0   \n",
      "505205    449998.0  28.0    Male    55.0             14.0            2.0   \n",
      "505206    449999.0  31.0    Male    48.0             20.0            1.0   \n",
      "\n",
      "        Payment Delay Subscription Type Contract Length  Total Spend  \\\n",
      "0                27.0             Basic         Monthly       598.00   \n",
      "1                13.0          Standard         Monthly       584.00   \n",
      "2                29.0           Premium          Annual       757.00   \n",
      "3                17.0           Premium       Quarterly       232.00   \n",
      "4                 2.0          Standard          Annual       533.00   \n",
      "...               ...               ...             ...          ...   \n",
      "505202            3.0           Premium          Annual       716.38   \n",
      "505203           20.0           Premium          Annual       745.38   \n",
      "505204            5.0          Standard       Quarterly       977.31   \n",
      "505205            0.0          Standard       Quarterly       602.55   \n",
      "505206           14.0           Premium       Quarterly       567.77   \n",
      "\n",
      "        Last Interaction  Churn  \n",
      "0                    9.0    1.0  \n",
      "1                   20.0    0.0  \n",
      "2                   21.0    0.0  \n",
      "3                   18.0    0.0  \n",
      "4                   18.0    0.0  \n",
      "...                  ...    ...  \n",
      "505202               8.0    0.0  \n",
      "505203               2.0    0.0  \n",
      "505204               9.0    0.0  \n",
      "505205               2.0    0.0  \n",
      "505206              21.0    0.0  \n",
      "\n",
      "[505207 rows x 12 columns]\n"
     ]
    }
   ],
   "source": [
    "import pandas as pd\n",
    "\n",
    "data_train = pd.read_csv(\"../data/train_raw.csv\")\n",
    "data_test = pd.read_csv(\"../data/test_raw.csv\")\n",
    "data = pd.concat([data_train, data_test], ignore_index=True)\n",
    "print(data)"
   ]
  },
  {
   "cell_type": "markdown",
   "id": "ae422ed3",
   "metadata": {},
   "source": [
    "<h2>Предварительная обработка данных</h2>"
   ]
  },
  {
   "cell_type": "markdown",
   "id": "b8e87b7f",
   "metadata": {},
   "source": [
    "<h3>Перевод данных на русский язык</h3>"
   ]
  },
  {
   "cell_type": "code",
   "execution_count": 20,
   "id": "1e2931fa",
   "metadata": {
    "scrolled": true
   },
   "outputs": [
    {
     "name": "stdout",
     "output_type": "stream",
     "text": [
      "        Клиент_ID  Возраст      Пол  Частота использования  \\\n",
      "0             1.0     22.0  Женский                   14.0   \n",
      "1             2.0     41.0  Женский                   28.0   \n",
      "2             3.0     47.0  Мужской                   10.0   \n",
      "3             4.0     35.0  Мужской                   12.0   \n",
      "4             5.0     53.0  Женский                   24.0   \n",
      "...           ...      ...      ...                    ...   \n",
      "505202   449995.0     42.0  Мужской                   15.0   \n",
      "505203   449996.0     25.0  Женский                   13.0   \n",
      "505204   449997.0     26.0  Мужской                   27.0   \n",
      "505205   449998.0     28.0  Мужской                   14.0   \n",
      "505206   449999.0     31.0  Мужской                   20.0   \n",
      "\n",
      "        Количество звонков в тех.поддержку  Задержка оплаты Тип подписки  \\\n",
      "0                                      4.0             27.0      Базовая   \n",
      "1                                      7.0             13.0  Стандартная   \n",
      "2                                      2.0             29.0  Премиальная   \n",
      "3                                      5.0             17.0  Премиальная   \n",
      "4                                      9.0              2.0  Стандартная   \n",
      "...                                    ...              ...          ...   \n",
      "505202                                 1.0              3.0  Премиальная   \n",
      "505203                                 1.0             20.0  Премиальная   \n",
      "505204                                 1.0              5.0  Стандартная   \n",
      "505205                                 2.0              0.0  Стандартная   \n",
      "505206                                 1.0             14.0  Премиальная   \n",
      "\n",
      "       Продолжительность подписки  Всего потрачено  Последнее взаимодействие  \\\n",
      "0                      Один месяц           598.00                       9.0   \n",
      "1                      Один месяц           584.00                      20.0   \n",
      "2                        Один год           757.00                      21.0   \n",
      "3                      Три месяца           232.00                      18.0   \n",
      "4                        Один год           533.00                      18.0   \n",
      "...                           ...              ...                       ...   \n",
      "505202                   Один год           716.38                       8.0   \n",
      "505203                   Один год           745.38                       2.0   \n",
      "505204                 Три месяца           977.31                       9.0   \n",
      "505205                 Три месяца           602.55                       2.0   \n",
      "505206                 Три месяца           567.77                      21.0   \n",
      "\n",
      "        Исход  \n",
      "0         1.0  \n",
      "1         0.0  \n",
      "2         0.0  \n",
      "3         0.0  \n",
      "4         0.0  \n",
      "...       ...  \n",
      "505202    0.0  \n",
      "505203    0.0  \n",
      "505204    0.0  \n",
      "505205    0.0  \n",
      "505206    0.0  \n",
      "\n",
      "[505206 rows x 11 columns]\n"
     ]
    }
   ],
   "source": [
    "data.columns = [\"Клиент_ID\", \"Возраст\", \"Пол\", \"Время владения\", \"Частота использования\", \"Количество звонков в тех.поддержку\", \"Задержка оплаты\", \"Тип подписки\", \"Продолжительность подписки\", \"Всего потрачено\", \"Последнее взаимодействие\", \"Исход\"]\n",
    "replacements = {\n",
    "    \"Female\": \"Женский\",\n",
    "    \"Male\": \"Мужской\",\n",
    "    \"Basic\": \"Базовая\",\n",
    "    \"Standard\": \"Стандартная\",\n",
    "    \"Premium\": \"Премиальная\",\n",
    "    \"Monthly\": \"Один месяц\",\n",
    "    \"Quarterly\": \"Три месяца\",\n",
    "    \"Annual\": \"Один год\",\n",
    "}\n",
    "data.replace(replacements, inplace=True)\n",
    "data.drop(columns=\"Время владения\", inplace=True)\n",
    "print(data)"
   ]
  },
  {
   "cell_type": "markdown",
   "id": "1b8587ad",
   "metadata": {},
   "source": [
    "<h3>Удаление нулевых значений</h3>"
   ]
  },
  {
   "cell_type": "code",
   "execution_count": 4,
   "id": "0769e72e",
   "metadata": {},
   "outputs": [],
   "source": [
    "data.dropna(inplace=True)"
   ]
  },
  {
   "cell_type": "markdown",
   "id": "04d4493c",
   "metadata": {},
   "source": [
    "<h2>Анализ клиентов</h2>"
   ]
  },
  {
   "cell_type": "code",
   "execution_count": 5,
   "id": "9a8d7cdc",
   "metadata": {},
   "outputs": [],
   "source": [
    "import matplotlib.pyplot as plt\n",
    "import seaborn as sns"
   ]
  },
  {
   "cell_type": "markdown",
   "id": "2e99728c",
   "metadata": {},
   "source": [
    "<h3>Анализ возрастов</h3>"
   ]
  },
  {
   "cell_type": "code",
   "execution_count": 6,
   "id": "5d02dc63",
   "metadata": {},
   "outputs": [
    {
     "name": "stdout",
     "output_type": "stream",
     "text": [
      "count    505206.000000\n",
      "mean         39.704172\n",
      "std          12.670577\n",
      "min          18.000000\n",
      "25%          29.000000\n",
      "50%          40.000000\n",
      "75%          49.000000\n",
      "max          65.000000\n",
      "Name: Возраст, dtype: float64\n"
     ]
    }
   ],
   "source": [
    "print(data[\"Возраст\"].describe())"
   ]
  },
  {
   "cell_type": "code",
   "execution_count": 7,
   "id": "862ac654",
   "metadata": {},
   "outputs": [
    {
     "name": "stdout",
     "output_type": "stream",
     "text": [
      "37.0    12391\n",
      "35.0    12353\n",
      "39.0    12310\n",
      "33.0    12247\n",
      "30.0    12231\n",
      "34.0    12171\n",
      "32.0    12169\n",
      "25.0    10995\n",
      "26.0    10973\n",
      "20.0    10941\n",
      "Name: Возраст, dtype: int64\n"
     ]
    }
   ],
   "source": [
    "ages_top = data[\"Возраст\"].value_counts()\n",
    "\n",
    "#print(ages_top.iloc[0:10])\n",
    "#print(ages_top.iloc[len(ages_top)-10:len(ages_top)])\n",
    "print(ages_top.iloc[int(len(ages_top)/2)-10:int(len(ages_top)/2)])"
   ]
  },
  {
   "cell_type": "code",
   "execution_count": 18,
   "id": "e6bb3e03",
   "metadata": {},
   "outputs": [
    {
     "data": {
      "image/png": "[encoded data removed]",
      "text/plain": [
       "<Figure size 1080x432 with 1 Axes>"
      ]
     },
     "metadata": {},
     "output_type": "display_data"
    }
   ],
   "source": [
    "sns.set_style(\"darkgrid\")\n",
    "plt.figure(figsize=(15,6))\n",
    "sns.histplot(data, x=\"Возраст\")\n",
    "plt.ylabel(\"Количество\")\n",
    "plt.show()"
   ]
  },
  {
   "cell_type": "markdown",
   "id": "dd2ae0f1",
   "metadata": {},
   "source": [
    "<h4>Итоги:</h4>\n",
    "<ol>\n",
    "<li>Топ <b>10</b> наиболее <b>распространенных</b> возрастов среди клиентов - от <b>40 до 50 лет</b></li>\n",
    "<li>Топ <b>10</b> возрастов <b>средней частоты упоминания</b> среди клиентов - от <b>20 до 30 лет</b></li>\n",
    "<li>Топ <b>10</b> наиболее <b>нерапространенных</b> возрастов среди клиентов - от <b>50 до 60 лет</b></li>\n",
    "</ol>\n",
    "<ol>\n",
    "<li><b>Средний</b> возраст среди клиентов <b>~40 лет</b></li>\n",
    "<li><b>Максимальный</b> возраст среди клиентов <b>65 лет</b></li>\n",
    "<li><b>Минимальный</b> возраст среди клиентов <b>18 лет</b></li>\n",
    "</ol>\n",
    "<p></p>"
   ]
  },
  {
   "cell_type": "markdown",
   "id": "0a00f7e6",
   "metadata": {},
   "source": [
    "<h3>Анализ полов</h3>"
   ]
  },
  {
   "cell_type": "code",
   "execution_count": 9,
   "id": "680a0a9d",
   "metadata": {},
   "outputs": [
    {
     "name": "stdout",
     "output_type": "stream",
     "text": [
      "count      505206\n",
      "unique          2\n",
      "top       Мужской\n",
      "freq       280273\n",
      "Name: Пол, dtype: object\n"
     ]
    }
   ],
   "source": [
    "print(data[\"Пол\"].describe())"
   ]
  },
  {
   "cell_type": "code",
   "execution_count": 23,
   "id": "be5b7f85",
   "metadata": {},
   "outputs": [
    {
     "data": {
      "image/png": "[encoded data removed]",
      "text/plain": [
       "<Figure size 1080x432 with 1 Axes>"
      ]
     },
     "metadata": {},
     "output_type": "display_data"
    }
   ],
   "source": [
    "sns.set_style(\"darkgrid\")\n",
    "plt.figure(figsize=(15,6))\n",
    "sns.countplot(data, x=\"Пол\")\n",
    "plt.ylabel(\"Количество\")\n",
    "plt.show()"
   ]
  },
  {
   "cell_type": "code",
   "execution_count": 11,
   "id": "43d4c93a",
   "metadata": {},
   "outputs": [
    {
     "name": "stdout",
     "output_type": "stream",
     "text": [
      "55.48%\n",
      "44.52%\n"
     ]
    }
   ],
   "source": [
    "num_men = len(data[data[\"Пол\"] == \"Мужской\"])\n",
    "num_women = len(data[data[\"Пол\"] == \"Женский\"])\n",
    "\n",
    "print(f\"{round((num_men*100)/len(data), 2)}%\")\n",
    "print(f\"{round((num_women*100)/len(data), 2)}%\")"
   ]
  },
  {
   "cell_type": "markdown",
   "id": "5b9b8a7e",
   "metadata": {},
   "source": [
    "<h4>Итоги:</h4>\n",
    "<ol>\n",
    "<li>Наиболее <b>распространенный</b> пол среди клиентов - <b>мужской</b> - <b>55.48%</b> от общего числа</li>\n",
    "<li>Наиболее <b>нераспространенный</b> пол среди клиентов - <b>женский</b> - <b>44.52%</b> от общего числа</li>\n",
    "</ol>"
   ]
  },
  {
   "cell_type": "markdown",
   "id": "42bc47f8",
   "metadata": {},
   "source": [
    "<h3>Анализ частоты использования</h3>\n",
    "<p>Предполагается, что частота использования для каждого клиента = количество дней в месяце, во время которых клиент использовал ПО</p>"
   ]
  },
  {
   "cell_type": "code",
   "execution_count": 21,
   "id": "a46ba3a6",
   "metadata": {},
   "outputs": [
    {
     "name": "stdout",
     "output_type": "stream",
     "text": [
      "count    505206.000000\n",
      "mean         15.714825\n",
      "std           8.619323\n",
      "min           1.000000\n",
      "25%           8.000000\n",
      "50%          16.000000\n",
      "75%          23.000000\n",
      "max          30.000000\n",
      "Name: Частота использования, dtype: float64\n"
     ]
    }
   ],
   "source": [
    "print(data[\"Частота использования\"].describe())"
   ]
  },
  {
   "cell_type": "code",
   "execution_count": 24,
   "id": "c62bbca3",
   "metadata": {},
   "outputs": [
    {
     "data": {
      "image/png": "[encoded data removed]",
      "text/plain": [
       "<Figure size 1080x432 with 1 Axes>"
      ]
     },
     "metadata": {},
     "output_type": "display_data"
    }
   ],
   "source": [
    "sns.set_style(\"darkgrid\")\n",
    "plt.figure(figsize=(15,6))\n",
    "sns.histplot(data, x=\"Частота использования\")\n",
    "plt.ylabel(\"Количество\")\n",
    "plt.show()"
   ]
  },
  {
   "cell_type": "markdown",
   "id": "98f85dc8",
   "metadata": {},
   "source": [
    "<h4>Итоги:</h4>\n",
    "<ol>\n",
    "<li><b>Максимальная</b> частота использования среди клиентов - <b>15 дней</b> в месяц</li>\n",
    "<li><b>Средняя</b> частота использования среди клиентов - <b>30 дней</b> в месяц</li>\n",
    "<li><b>Минимальная</b> частота использования среди клиентов - <b>1 день</b> в месяц</li>\n",
    "</ol>"
   ]
  },
  {
   "cell_type": "markdown",
   "id": "e6ceccb2",
   "metadata": {},
   "source": []
  }
 ],
 "metadata": {
  "kernelspec": {
   "display_name": "Python 3 (ipykernel)",
   "language": "python",
   "name": "python3"
  },
  "language_info": {
   "codemirror_mode": {
    "name": "ipython",
    "version": 3
   },
   "file_extension": ".py",
   "mimetype": "text/x-python",
   "name": "python",
   "nbconvert_exporter": "python",
   "pygments_lexer": "ipython3",
   "version": "3.9.6"
  }
 },
 "nbformat": 4,
 "nbformat_minor": 5
}
